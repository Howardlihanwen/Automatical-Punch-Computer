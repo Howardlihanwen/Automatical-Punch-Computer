{
 "cells": [
  {
   "cell_type": "code",
   "execution_count": 1,
   "id": "f3bce372",
   "metadata": {},
   "outputs": [],
   "source": [
    "'''\n",
    "匯入工具\n",
    "'''\n",
    "import pyautogui\n",
    "from time import sleep, time\n",
    "import keyboard\n",
    "from IPython.display import clear_output"
   ]
  },
  {
   "cell_type": "code",
   "execution_count": 2,
   "id": "2f682121",
   "metadata": {},
   "outputs": [],
   "source": [
    "# 遊戲網址:https://www.i-gamer.net/play/592.html\n",
    "\n",
    "\n",
    "\n",
    "# 設定每一個動作，都暫停若干秒\n",
    "pyautogui.PAUSE = 0\n",
    "\n",
    "# 打擊點\n",
    "listPoint = [\n",
    "    [916,479],\n",
    "    [607,415],\n",
    "    [609,665],\n",
    "    [904,614],\n",
    "    [839,801],\n",
    "    [1041,810],\n",
    "    [934,821],\n",
    "    [688,565],  \n",
    "]\n",
    "\n",
    "# 點擊\n",
    "def click():\n",
    "    for list_ in listPoint:\n",
    "        # 每次點擊都會重新取得指定打擊點的RGB值\n",
    "        coord = pyautogui.pixel( list_[0], list_[1] )\n",
    "        if coord[0] != 0:\n",
    "            pyautogui.mouseDown(list_[0], list_[1])\n",
    "            pyautogui.mouseUp(list_[0], list_[1])\n",
    "        #if coord[0] == 236 and coord[1] == 236 and coord[2] == 236:\n",
    "            #pyautogui.mouseDown(list_[0], list_[1])\n",
    "            #pyautogui.mouseUp(list_[0], list_[1])\n",
    "        #if coord[0] == 164 and coord[1] == 164 and coord[2] == 164:\n",
    "            #pyautogui.mouseDown(list_[0], list_[1])\n",
    "            #pyautogui.mouseUp(list_[0], list_[1])\n",
    "            \n",
    "       \n",
    "                \n",
    "'''\n",
    "主程式區域\n",
    "'''\n",
    "if __name__ == \"__main__\":\n",
    "    flag = False\n",
    "    while True:\n",
    "        # 當我們按下 ctrl 鍵時, 自動點擊, 按下alt則結束迴圈\n",
    "        if keyboard.is_pressed('alt'):\n",
    "            break\n",
    "        \n",
    "        if flag == False:\n",
    "            if keyboard.is_pressed('ctrl'):\n",
    "                flag = True\n",
    "        if flag == True:\n",
    "            click()"
   ]
  },
  {
   "cell_type": "code",
   "execution_count": null,
   "id": "4b1af5ec",
   "metadata": {},
   "outputs": [],
   "source": []
  }
 ],
 "metadata": {
  "kernelspec": {
   "display_name": "Python 3 (ipykernel)",
   "language": "python",
   "name": "python3"
  },
  "language_info": {
   "codemirror_mode": {
    "name": "ipython",
    "version": 3
   },
   "file_extension": ".py",
   "mimetype": "text/x-python",
   "name": "python",
   "nbconvert_exporter": "python",
   "pygments_lexer": "ipython3",
   "version": "3.9.13"
  }
 },
 "nbformat": 4,
 "nbformat_minor": 5
}
